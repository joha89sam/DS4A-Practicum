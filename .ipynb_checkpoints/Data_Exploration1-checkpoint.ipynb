{
 "cells": [
  {
   "cell_type": "markdown",
   "metadata": {},
   "source": [
    "# Data Exploration Final Project"
   ]
  },
  {
   "cell_type": "code",
   "execution_count": 1,
   "metadata": {},
   "outputs": [],
   "source": [
    "import pandas as pd\n",
    "import matplotlib.pyplot as plt\n",
    "import seaborn as sns\n",
    "import numpy"
   ]
  },
  {
   "cell_type": "code",
   "execution_count": null,
   "metadata": {},
   "outputs": [],
   "source": [
    "!pip install cufflinks"
   ]
  },
  {
   "cell_type": "code",
   "execution_count": 2,
   "metadata": {},
   "outputs": [
    {
     "ename": "ModuleNotFoundError",
     "evalue": "No module named 'cufflinks'",
     "output_type": "error",
     "traceback": [
      "\u001b[1;31m---------------------------------------------------------------------------\u001b[0m",
      "\u001b[1;31mModuleNotFoundError\u001b[0m                       Traceback (most recent call last)",
      "\u001b[1;32m<ipython-input-2-081a3b3103af>\u001b[0m in \u001b[0;36m<module>\u001b[1;34m\u001b[0m\n\u001b[0;32m      1\u001b[0m \u001b[1;32mimport\u001b[0m \u001b[0mplotly\u001b[0m\u001b[1;33m.\u001b[0m\u001b[0moffline\u001b[0m \u001b[1;32mas\u001b[0m \u001b[0mpy\u001b[0m\u001b[1;33m\u001b[0m\u001b[1;33m\u001b[0m\u001b[0m\n\u001b[0;32m      2\u001b[0m \u001b[1;32mimport\u001b[0m \u001b[0mplotly\u001b[0m\u001b[1;33m.\u001b[0m\u001b[0mgraph_objects\u001b[0m \u001b[1;32mas\u001b[0m \u001b[0mgo\u001b[0m\u001b[1;33m\u001b[0m\u001b[1;33m\u001b[0m\u001b[0m\n\u001b[1;32m----> 3\u001b[1;33m \u001b[1;32mimport\u001b[0m \u001b[0mcufflinks\u001b[0m \u001b[1;32mas\u001b[0m \u001b[0mcf\u001b[0m\u001b[1;33m\u001b[0m\u001b[1;33m\u001b[0m\u001b[0m\n\u001b[0m\u001b[0;32m      4\u001b[0m \u001b[1;32mfrom\u001b[0m \u001b[0mplotly\u001b[0m\u001b[1;33m.\u001b[0m\u001b[0msubplots\u001b[0m \u001b[1;32mimport\u001b[0m \u001b[0mmake_subplots\u001b[0m\u001b[1;33m\u001b[0m\u001b[1;33m\u001b[0m\u001b[0m\n\u001b[0;32m      5\u001b[0m \u001b[1;32mfrom\u001b[0m \u001b[0mplotly\u001b[0m \u001b[1;32mimport\u001b[0m \u001b[0mexpress\u001b[0m \u001b[1;32mas\u001b[0m \u001b[0mpx\u001b[0m\u001b[1;33m\u001b[0m\u001b[1;33m\u001b[0m\u001b[0m\n",
      "\u001b[1;31mModuleNotFoundError\u001b[0m: No module named 'cufflinks'"
     ]
    }
   ],
   "source": [
    "import plotly.offline as py\n",
    "import plotly.graph_objects as go\n",
    "import cufflinks as cf\n",
    "from plotly.subplots import make_subplots\n",
    "from plotly import express as px\n",
    "cf.go_offline()\n",
    "py.init_notebook_mode()\n"
   ]
  },
  {
   "cell_type": "code",
   "execution_count": null,
   "metadata": {},
   "outputs": [],
   "source": [
    "with open('data/beneficios.csv') as f:\n",
    "    ben_df=pd.read_csv(f, low_memory = False)"
   ]
  },
  {
   "cell_type": "code",
   "execution_count": null,
   "metadata": {},
   "outputs": [],
   "source": [
    "with open('data/BaseIVR.csv') as b:\n",
    "    base_df=pd.read_csv(b, low_memory = False)"
   ]
  },
  {
   "cell_type": "code",
   "execution_count": null,
   "metadata": {},
   "outputs": [],
   "source": [
    "xls_2=pd.ExcelFile('data/Lote AB-06 Enviados para tablero.xlsx')\n",
    "lote_df=xls_2.parse('Lote 01 AB06(3448)')\n"
   ]
  },
  {
   "cell_type": "markdown",
   "metadata": {},
   "source": [
    "Se tiene el primer data set llamado base_df en el cual se tienen 5 columnas: Tipo de documento, Tipo de documento combinada con \n",
    "el número de este, número de documento, estado de la solicitud y motivo, el cual sólo tiene una descripción si la solicitud fue negada."
   ]
  },
  {
   "cell_type": "markdown",
   "metadata": {},
   "source": [
    "Inicialmente, se eliminará la columna \"TIPO.NUM.DOC\" ya que no tiene sentido tenerla si se tienen estos valores por separado.\n",
    "También se renombraran las demás columnas para mayor entendimiento del problema."
   ]
  },
  {
   "cell_type": "code",
   "execution_count": null,
   "metadata": {
    "scrolled": true
   },
   "outputs": [],
   "source": [
    "base_df\n",
    "df_base=base_df.copy()\n",
    "df_base"
   ]
  },
  {
   "cell_type": "code",
   "execution_count": null,
   "metadata": {},
   "outputs": [],
   "source": [
    "#Renombrar Columnas\n",
    "df_base.rename(columns={'TIPO.DOCUMENTO': 'Tipo de Documento', 'NUMERO.DOCUMENTO': 'Numero de Documento', 'ESTADO': 'Estado', 'MOTIVO':'Motivo'},inplace= True)\n",
    "df_base = df_base.drop(['TIPO.NUM.DOC'], axis=1)\n",
    "df_base"
   ]
  },
  {
   "cell_type": "markdown",
   "metadata": {},
   "source": [
    "Ahora teniendo una tabla con nombres más organizados y sin columnas inncesarias se procede un análsis un poco más detallado de \n",
    "cada una de las columnas"
   ]
  },
  {
   "cell_type": "code",
   "execution_count": null,
   "metadata": {
    "scrolled": true
   },
   "outputs": [],
   "source": [
    "print(df_base['Numero de Documento'].count())\n",
    "print(df_base['Tipo de Documento'].count())\n",
    "print(df_base['Estado'].count())\n",
    "print(df_base['Motivo'].count())"
   ]
  },
  {
   "cell_type": "markdown",
   "metadata": {},
   "source": [
    "Con el conteo inicial de datos se puede ver que las columnas Numero de Documento, Tipo de Documento y Estado tienen casi la misma cantidad de datos, exceptuando porque en tipo de documento falta un dato. Para el caso de motivo, esto sucede debido a que el subsidio fue aprobado, por lo que en estos casos aparece el NaN.\n",
    "Para comprobar que no existan números de documento repetidos se deben verificar los valores únicos. También se debe filtrar para identificar la cantidad de tipos de documento existentes."
   ]
  },
  {
   "cell_type": "code",
   "execution_count": null,
   "metadata": {
    "scrolled": false
   },
   "outputs": [],
   "source": [
    "cantidad = df_base['Numero de Documento'].unique()\n",
    "print(len(cantidad))\n",
    "cant_tipo= df_base['Tipo de Documento'].unique()\n",
    "print(cant_tipo)\n",
    "cant_estado = df_base['Estado'].unique()\n",
    "print(cant_estado)\n",
    "cant_motivo = df_base['Motivo'].unique()\n",
    "print(len(cant_motivo))\n"
   ]
  },
  {
   "cell_type": "markdown",
   "metadata": {},
   "source": [
    "Con estos resultados, se tiene que no existen documentos repetidos,existen 19 tipos de documentos y se tienen 5 estados de solicitud diferentes. En cuanto a los motivos se tienen 262 razones diferentes. "
   ]
  },
  {
   "cell_type": "code",
   "execution_count": null,
   "metadata": {
    "scrolled": false
   },
   "outputs": [],
   "source": [
    "df_base[df_base['Estado'].str.contains(\"PŽrdida de Derecho\", case=False)]\n",
    "df_base['Estado'] = df_base['Estado'].apply(lambda x: x.replace(\"PŽrdida de Derecho\", \"Perdida de Derecho\"))\n",
    "\n",
    "df_base[df_base['Estado'].str.contains(\"Pendiente de an‡lisis\", case=False)]\n",
    "df_base['Estado'] = df_base['Estado'].apply(lambda x: x.replace(\"Pendiente de an‡lisis\", \"Pendiente de Analisis\"))\n",
    "df_base"
   ]
  },
  {
   "cell_type": "code",
   "execution_count": null,
   "metadata": {},
   "outputs": [],
   "source": [
    "estado_list = ['Aprobado','Negado','Perdida de Derecho','Pendiente de Analisis','Retiro Voluntario']\n",
    "estado_df = pd.DataFrame()\n",
    "estado_df['Estado'] = estado_list\n",
    "estado_df\n",
    "\n",
    "base_df= estado_df.merge(df_base, on='Estado')\n",
    "base_df\n",
    "\n"
   ]
  },
  {
   "cell_type": "code",
   "execution_count": null,
   "metadata": {
    "scrolled": false
   },
   "outputs": [],
   "source": [
    "count_status = base_df.groupby(['Estado'])['Numero de Documento'].count().sort_values(ascending=False)\n",
    "count_status.iplot(kind='bar', title= 'Request Status', color = 'purple')\n"
   ]
  },
  {
   "cell_type": "code",
   "execution_count": null,
   "metadata": {},
   "outputs": [],
   "source": [
    "count_status.iplot(kind='pie', title= 'Request Status')"
   ]
  },
  {
   "cell_type": "markdown",
   "metadata": {},
   "source": [
    "Con el gráfico se puede observar que la mayoría de solicitudes no han sido respondidas puesto que se encuentran pendiente de análisis. La cantidad de personas que no han accedido al subsidio por perdida de derecho o retiro voluntario son muy pocas. Para el caso de personas a las que se les negó el subsidio fueron 8189, siendo aproximadamente el 10% de las solicitudes. "
   ]
  },
  {
   "cell_type": "markdown",
   "metadata": {},
   "source": [
    "Para el siguente conjunto de datos se tiene el documento Lote AB en el cual se encuentra el detalle de las asignaciones. Se encuentran varias columnas que pueden ser de interés para el proyecto. "
   ]
  },
  {
   "cell_type": "code",
   "execution_count": null,
   "metadata": {
    "scrolled": false
   },
   "outputs": [],
   "source": [
    "lote_df\n"
   ]
  },
  {
   "cell_type": "code",
   "execution_count": null,
   "metadata": {
    "scrolled": false
   },
   "outputs": [],
   "source": [
    "genero_list = ['Femenino', 'Masculino']\n",
    "genero_df = pd.DataFrame()\n",
    "genero_df['Género'] = genero_list\n",
    "genero_df\n",
    "\n",
    "lote_df= genero_df.merge(lote_df, on='Género')\n",
    "lote_df.shape"
   ]
  },
  {
   "cell_type": "code",
   "execution_count": null,
   "metadata": {},
   "outputs": [],
   "source": [
    "count_genero = lote_df.groupby(['Género'])['Número de Documento'].count().sort_values(ascending=False)\n",
    "count_genero"
   ]
  },
  {
   "cell_type": "code",
   "execution_count": null,
   "metadata": {},
   "outputs": [],
   "source": [
    "En la siguiente gráfica se relaciona la cantidad de hombres y mujeres con respecto a la cantidad de personas totales."
   ]
  },
  {
   "cell_type": "code",
   "execution_count": null,
   "metadata": {},
   "outputs": [],
   "source": [
    "fig, ax = plt.subplots(figsize=(10, 30))\n",
    "count_genero.plot(kind= 'pie', ax=ax, legend= False, title=\"Gender\", style = 'k--')\n",
    "  "
   ]
  },
  {
   "cell_type": "code",
   "execution_count": null,
   "metadata": {},
   "outputs": [],
   "source": [
    "lote_df[lote_df[\"¿Está inscrito en el servicio público de empleo?\"].str.contains(\"Si                                       \", case=False)]\n",
    "lote_df[\"¿Está inscrito en el servicio público de empleo?\"] = lote_df[\"¿Está inscrito en el servicio público de empleo?\"].apply(lambda x: x.replace('Si                                       ', 'Si'))\n",
    "lote_df[\"¿Está inscrito en el servicio público de empleo?\"].unique()"
   ]
  },
  {
   "cell_type": "code",
   "execution_count": null,
   "metadata": {},
   "outputs": [],
   "source": [
    "count_serviempleo = lote_df.groupby(['¿Está inscrito en el servicio público de empleo?'])['Número de Documento'].count().sort_values(ascending=False)\n",
    "count_serviempleo\n",
    "\n",
    "fig, ax = plt.subplots(figsize=(15, 5))\n",
    "count_serviempleo.plot(kind= 'pie', ax=ax, legend= False, title=\"¿Está inscrito en el servicio público de empleo?\", style = 'k--')\n"
   ]
  },
  {
   "cell_type": "markdown",
   "metadata": {},
   "source": [
    "Con esta gráfica se confirma que todas las personas se encuentran inscritas en el servicio público de empleo."
   ]
  },
  {
   "cell_type": "code",
   "execution_count": null,
   "metadata": {},
   "outputs": [],
   "source": [
    "lote_df[\"Zona\"].unique()"
   ]
  },
  {
   "cell_type": "code",
   "execution_count": null,
   "metadata": {},
   "outputs": [],
   "source": [
    "count_zona = lote_df.groupby(['Zona'])['Número de Documento'].count().sort_values(ascending=False)\n",
    "count_zona"
   ]
  },
  {
   "cell_type": "code",
   "execution_count": null,
   "metadata": {
    "scrolled": false
   },
   "outputs": [],
   "source": [
    "fig, ax = plt.subplots(figsize=(10, 30))\n",
    "count_zona.plot(kind= 'pie', ax=ax, legend= False, title=\"Zone\", style = 'k--')\n",
    "plt.ylabel('', fontsize=15)   "
   ]
  },
  {
   "cell_type": "markdown",
   "metadata": {},
   "source": [
    "Con este gráfico se puede apreciar que la mayoría de subsidios entregados se encuentran en la zona urbana de Medellín"
   ]
  },
  {
   "cell_type": "code",
   "execution_count": null,
   "metadata": {},
   "outputs": [],
   "source": [
    "lote_df[\"¿Cuál fue su última Caja de Compensación?\"].unique()"
   ]
  },
  {
   "cell_type": "markdown",
   "metadata": {},
   "source": [
    "También se puede observar que en su mayoría hacen parte de la caja de compensación Confama. Es necesario explorar que sucede con los datos que no se encuentran disponibles"
   ]
  },
  {
   "cell_type": "code",
   "execution_count": null,
   "metadata": {
    "scrolled": true
   },
   "outputs": [],
   "source": [
    "count_caja = lote_df.groupby(['¿Cuál fue su última Caja de Compensación?'])['Número de Documento'].count().sort_values(ascending=False)\n",
    "count_caja"
   ]
  },
  {
   "cell_type": "markdown",
   "metadata": {},
   "source": [
    "También se puede realizar una exploración del estado civil que poseen el grupo de personas"
   ]
  },
  {
   "cell_type": "code",
   "execution_count": null,
   "metadata": {
    "scrolled": true
   },
   "outputs": [],
   "source": [
    "lote_df[\"Estado Civil\"].unique()\n",
    "count_estadoc = lote_df.groupby(['Estado Civil'])['Número de Documento'].count().sort_values(ascending=False)\n",
    "count_estadoc"
   ]
  },
  {
   "cell_type": "code",
   "execution_count": null,
   "metadata": {
    "scrolled": false
   },
   "outputs": [],
   "source": [
    "fig, ax = plt.subplots(figsize=(10, 38))\n",
    "count_estadoc.plot(kind= 'pie', ax=ax, legend= False, title=\"Civil Status\", style = 'k--')\n",
    "plt.ylabel('', fontsize=15)   "
   ]
  },
  {
   "cell_type": "markdown",
   "metadata": {},
   "source": [
    "Con el gráfico anterior podemos observar que la mayoría de personas pertececen al estado civil de solteros, seguidos por unión libre, casado y para separado o viudo si se encuentra una minoría."
   ]
  },
  {
   "cell_type": "code",
   "execution_count": null,
   "metadata": {},
   "outputs": [],
   "source": [
    "lote_df[\"Departamento\"].unique()"
   ]
  },
  {
   "cell_type": "code",
   "execution_count": null,
   "metadata": {},
   "outputs": [],
   "source": [
    "Con lo anterior se confirma que todas las personas pertenecen al departamento de Antioquia"
   ]
  },
  {
   "cell_type": "code",
   "execution_count": null,
   "metadata": {
    "scrolled": true
   },
   "outputs": [],
   "source": [
    "print(len(lote_df[\"Municipio\"].unique()))"
   ]
  },
  {
   "cell_type": "code",
   "execution_count": null,
   "metadata": {
    "scrolled": false
   },
   "outputs": [],
   "source": [
    "count_municipio = lote_df.groupby(['Municipio'])['Número de Documento'].count().sort_values(ascending=False)\n",
    "graphmunicipio = count_municipio.nlargest(10)\n",
    "fig, ax = plt.subplots(figsize=(10, 38))\n",
    "graphmunicipio.plot(kind= 'pie', ax=ax, legend= False, title=\"Borough\", style = 'k--')\n",
    "plt.ylabel('', fontsize=15)   \n"
   ]
  },
  {
   "cell_type": "code",
   "execution_count": null,
   "metadata": {},
   "outputs": [],
   "source": [
    "Nuevamente se confirma que la mayoría de personas se encuentran en la ciudad de Medellín y Municipios muy cercanos a la ciudad."
   ]
  },
  {
   "cell_type": "code",
   "execution_count": null,
   "metadata": {},
   "outputs": [],
   "source": [
    "lote_df"
   ]
  },
  {
   "cell_type": "code",
   "execution_count": null,
   "metadata": {
    "scrolled": false
   },
   "outputs": [],
   "source": [
    "lote_df['Barrio'] = lote_df['Barrio'].str.lower()\n",
    "lote_df['Barrio'].head()\n",
    "\n",
    "count_barrio = lote_df.groupby(['Barrio'])['Número de Documento'].count().sort_values(ascending=False)\n",
    "graphbarrio = count_barrio.nlargest(30)\n",
    "graphbarrio.iplot(kind='bar', title= 'Number of people per neighborhood', color = 'purple', xTitle='Neighborhood', yTitle='Amount of people')"
   ]
  },
  {
   "cell_type": "code",
   "execution_count": null,
   "metadata": {},
   "outputs": [],
   "source": [
    "count_origen = lote_df.groupby([\"ORIGEN DE POSTULACIÓN.1\"])['Número de Documento'].count().sort_values(ascending=False)\n",
    "count_origen"
   ]
  },
  {
   "cell_type": "code",
   "execution_count": null,
   "metadata": {},
   "outputs": [],
   "source": [
    "fig, ax = plt.subplots(figsize=(10, 38))\n",
    "count_origen.plot(kind= 'pie', ax=ax, legend= False, title=\"Origin of application\", style = 'k--')\n",
    "plt.ylabel('', fontsize=15)  "
   ]
  },
  {
   "cell_type": "code",
   "execution_count": null,
   "metadata": {
    "scrolled": false
   },
   "outputs": [],
   "source": [
    "lote_df"
   ]
  }
 ],
 "metadata": {
  "kernelspec": {
   "display_name": "Python 3",
   "language": "python",
   "name": "python3"
  },
  "language_info": {
   "codemirror_mode": {
    "name": "ipython",
    "version": 3
   },
   "file_extension": ".py",
   "mimetype": "text/x-python",
   "name": "python",
   "nbconvert_exporter": "python",
   "pygments_lexer": "ipython3",
   "version": "3.8.3"
  }
 },
 "nbformat": 4,
 "nbformat_minor": 4
}
